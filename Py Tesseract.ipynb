{
 "cells": [
  {
   "cell_type": "code",
   "execution_count": 3,
   "id": "64b20ba5",
   "metadata": {},
   "outputs": [
    {
     "name": "stdout",
     "output_type": "stream",
     "text": [
      "ying an dependent contented he gentleman agreeable do be. Warrant\n",
      "emoved an in equally totally if. Del: Lor Sar\n",
      "objection do mr prevailed. Mr feeling do chiefly cordial in do. Hater timed folly\n",
      "right aware if oh truth. Imprudence attachment him his for sympathize. Large above\n",
      "be to means. Dashwood do provided stronger is. But discretion frequently sir the\n",
      "she instrument unaffected admiration everything.\n",
      "\n",
      "Her extensive perceived may any sincerity,\n",
      "see. Old propriety delighted\n",
      "Doubt meri\n",
      "northward. Congisted we atheruise arrang ng commanded d\n",
      "Cho old even song like tao yet been. ‘Literature inter doannouncing for\n",
      "terminated him inquietude day shy. Hi nm perhaps waiting if\n",
      "highest no it, Continued promotion has consulted fat improving not way.\n",
      "\n",
      "tramity. Indeed add rather may pretty\n",
      "i obj lion gam ten her.\n",
      "nition smallness he\n",
      "ry it explained.\n",
      "\n",
      "Far quitting dwelling grac\n",
      "show am shed sold cold. Unatte\n",
      "terminated led. Result either d\n",
      "ferrars it ye besides resolve.\n",
      "pursuit at regular do parlo\n",
      "\n",
      "d remarkably lence\n",
      "\n",
      "gn san she 3 (in ashamed no inhabit\n",
      "Hn judgment yf i\n",
      "Rank what has into fond she.\n",
      "\n",
      "(4 friendship on inhabiting diminution discovered\n",
      "building few nor. Ghject he barton no effect play\n",
      "oppe we little seeing or branch.\n",
      "frequently you pos: ion tl\n",
      "held lain give yet.\n",
      "\n",
      "Tid friendly eat breeding\n",
      "\n",
      "do valley afford. Period so to\n",
      "Announcing contrasted not imprudence add\n",
      "\n",
      "ried gam his hou are and misery. Hour had\n",
      "\n",
      "\n"
     ]
    }
   ],
   "source": [
    "from PIL import Image\n",
    "from pytesseract import pytesseract\n",
    "\n",
    "path_to_tesseract = r\"C:\\\\Program Files\\\\Tesseract\\\\tesseract.exe\"\n",
    "image_path = r\"C:\\\\Users\\\\abhis\\\\Desktop\\\\Data\\\\Task1\\\\1.jpg\"\n",
    "img = Image.open(image_path)\n",
    "pytesseract.tesseract_cmd = path_to_tesseract\n",
    "text = pytesseract.image_to_string(img)\n",
    "print(text)"
   ]
  },
  {
   "cell_type": "code",
   "execution_count": 4,
   "id": "08b85fd5",
   "metadata": {},
   "outputs": [
    {
     "data": {
      "text/plain": [
       "str"
      ]
     },
     "execution_count": 4,
     "metadata": {},
     "output_type": "execute_result"
    }
   ],
   "source": [
    "x = 'e'\n",
    "type(x)"
   ]
  },
  {
   "cell_type": "code",
   "execution_count": 8,
   "id": "a8d6c0b8",
   "metadata": {},
   "outputs": [
    {
     "name": "stderr",
     "output_type": "stream",
     "text": [
      "Neither CUDA nor MPS are available - defaulting to CPU. Note: This module is much faster with a GPU.\n"
     ]
    },
    {
     "name": "stdout",
     "output_type": "stream",
     "text": [
      "C:\\Users\\abhis\\Desktop\\Data\\Task1\\1.jpg\n"
     ]
    },
    {
     "name": "stderr",
     "output_type": "stream",
     "text": [
      "C:\\Users\\abhis\\AppData\\Local\\Temp\\ipykernel_3408\\2369964173.py:14: FutureWarning: The frame.append method is deprecated and will be removed from pandas in a future version. Use pandas.concat instead.\n",
      "  df = df.append(pd.DataFrame({'image': images, 'deleted_text': result[0]}, index=[0]), ignore_index=True)\n"
     ]
    },
    {
     "name": "stdout",
     "output_type": "stream",
     "text": [
      "C:\\Users\\abhis\\Desktop\\Data\\Task1\\2.jpg\n"
     ]
    },
    {
     "name": "stderr",
     "output_type": "stream",
     "text": [
      "C:\\Users\\abhis\\AppData\\Local\\Temp\\ipykernel_3408\\2369964173.py:14: FutureWarning: The frame.append method is deprecated and will be removed from pandas in a future version. Use pandas.concat instead.\n",
      "  df = df.append(pd.DataFrame({'image': images, 'deleted_text': result[0]}, index=[0]), ignore_index=True)\n"
     ]
    },
    {
     "name": "stdout",
     "output_type": "stream",
     "text": [
      "C:\\Users\\abhis\\Desktop\\Data\\Task1\\3.jpg\n",
      "                                     image  \\\n",
      "0  C:\\Users\\abhis\\Desktop\\Data\\Task1\\1.jpg   \n",
      "1  C:\\Users\\abhis\\Desktop\\Data\\Task1\\2.jpg   \n",
      "2  C:\\Users\\abhis\\Desktop\\Data\\Task1\\3.jpg   \n",
      "\n",
      "                                        deleted_text  \n",
      "0  Satisfied conveying an dependent contented he ...  \n",
      "1                                                God  \n",
      "2  Satisfied conueying ni depenident contented he...  \n"
     ]
    },
    {
     "name": "stderr",
     "output_type": "stream",
     "text": [
      "C:\\Users\\abhis\\AppData\\Local\\Temp\\ipykernel_3408\\2369964173.py:14: FutureWarning: The frame.append method is deprecated and will be removed from pandas in a future version. Use pandas.concat instead.\n",
      "  df = df.append(pd.DataFrame({'image': images, 'deleted_text': result[0]}, index=[0]), ignore_index=True)\n"
     ]
    }
   ],
   "source": [
    "import cv2\n",
    "import glob\n",
    "import pandas as pd\n",
    "import easyocr\n",
    "\n",
    "path = 'C:\\\\Users\\\\abhis\\\\Desktop\\\\Data\\\\Task1\\\\*.*'\n",
    "img_number = 1\n",
    "reader = easyocr.Reader(['en'])\n",
    "df = pd.DataFrame()\n",
    "for images in glob.glob(path):\n",
    "    print(images)\n",
    "    img = cv2.imread(images, 0)\n",
    "    result = reader.readtext(img, detail=0, paragraph=True)\n",
    "    df = df.append(pd.DataFrame({'image': images, 'deleted_text': result[0]}, index=[0]), ignore_index=True)\n",
    "    img_number += 1\n",
    "print(df)"
   ]
  },
  {
   "cell_type": "code",
   "execution_count": 17,
   "id": "970a2d12",
   "metadata": {},
   "outputs": [
    {
     "data": {
      "text/plain": [
       "'Satisfied conveying an dependent contented he gentleman agreeable do be- Harrant private blushes removed an in equally totally if. Delivered dejection necessary objection do mr prevailed Mr feeling do chiefly cordial in do Hater timed folly right ahare if oh truth  Imprudence attachment himo his for sympathize. Large above be +0 means. Dashhood do provided stronger is; But discretion frequently sin the she instrument unaffected admiration everything:'"
      ]
     },
     "execution_count": 17,
     "metadata": {},
     "output_type": "execute_result"
    }
   ],
   "source": [
    "df['deleted_text'][0]"
   ]
  },
  {
   "cell_type": "code",
   "execution_count": 18,
   "id": "468fc04e",
   "metadata": {},
   "outputs": [
    {
     "data": {
      "text/plain": [
       "'God'"
      ]
     },
     "execution_count": 18,
     "metadata": {},
     "output_type": "execute_result"
    }
   ],
   "source": [
    "df['deleted_text'][1]"
   ]
  },
  {
   "cell_type": "code",
   "execution_count": 19,
   "id": "a98bd4a8",
   "metadata": {},
   "outputs": [
    {
     "data": {
      "text/plain": [
       "'Satisfied conueying ni depenident contented he gent] emar agreeable do be. Harrant private blushes removed an in equally totally 1f. Delvered dejection fiecefs ary objection do Tutt\" prevalled. Nr   feeling do chlefly cordial 10 do. Hater t1mned folly right auare 1f oh truth. Imprudenoe attachment hifo his for\" sympathlze. Large aboVe be t0 Me ans. Dashuood do provided stronger 1S. But discretion frequently Slr\" the she 1nstrUment unatfected admiration everything.'"
      ]
     },
     "execution_count": 19,
     "metadata": {},
     "output_type": "execute_result"
    }
   ],
   "source": [
    "df['deleted_text'][2]"
   ]
  }
 ],
 "metadata": {
  "kernelspec": {
   "display_name": "Python 3 (ipykernel)",
   "language": "python",
   "name": "python3"
  },
  "language_info": {
   "codemirror_mode": {
    "name": "ipython",
    "version": 3
   },
   "file_extension": ".py",
   "mimetype": "text/x-python",
   "name": "python",
   "nbconvert_exporter": "python",
   "pygments_lexer": "ipython3",
   "version": "3.10.9"
  }
 },
 "nbformat": 4,
 "nbformat_minor": 5
}
