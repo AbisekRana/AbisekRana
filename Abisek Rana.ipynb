{
 "cells": [
  {
   "cell_type": "markdown",
   "id": "aa467021",
   "metadata": {},
   "source": [
    "# Question 2 "
   ]
  },
  {
   "cell_type": "code",
   "execution_count": 16,
   "id": "545442f8",
   "metadata": {},
   "outputs": [
    {
     "name": "stdout",
     "output_type": "stream",
     "text": [
      "BooB\n",
      "True\n"
     ]
    }
   ],
   "source": [
    "a = input(str())\n",
    "b = a[::-1]\n",
    "if a==b:\n",
    "    print('True')\n",
    "else:\n",
    "    print('false')"
   ]
  },
  {
   "cell_type": "code",
   "execution_count": 17,
   "id": "f061d839",
   "metadata": {},
   "outputs": [
    {
     "name": "stdout",
     "output_type": "stream",
     "text": [
      "pop\n",
      "True\n"
     ]
    }
   ],
   "source": [
    "a = input(str())\n",
    "b = a[::-1]\n",
    "if a==b:\n",
    "    print('True')\n",
    "else:\n",
    "    print('false')"
   ]
  },
  {
   "cell_type": "markdown",
   "id": "59044f95",
   "metadata": {},
   "source": [
    "# Question3"
   ]
  },
  {
   "cell_type": "code",
   "execution_count": 14,
   "id": "8e50acff",
   "metadata": {},
   "outputs": [
    {
     "name": "stdout",
     "output_type": "stream",
     "text": [
      "Enter the numbers : 10\n",
      "Enter the numbers : 20\n",
      "Enter the numbers : 30\n",
      "Enter the numbers : 40\n",
      "Enter the numbers : 50\n",
      "Enter the numbers : 60\n",
      "Enter the numbers : 70\n",
      "Enter the numbers : done\n",
      "[10, 20, 30, 40, 50, 60, 70]\n",
      "140.0\n"
     ]
    }
   ],
   "source": [
    "strength = list()\n",
    "while(True):\n",
    "    inp = input('Enter the numbers : ')\n",
    "    if inp == 'done': break\n",
    "    values = int(inp)\n",
    "    strength.append(values)\n",
    "grp1=[]\n",
    "grp2=[]\n",
    "div = sum(strength)/2"
   ]
  },
  {
   "cell_type": "markdown",
   "id": "1240e131",
   "metadata": {},
   "source": [
    "# Question 1"
   ]
  },
  {
   "cell_type": "code",
   "execution_count": 15,
   "id": "fb4eddab",
   "metadata": {},
   "outputs": [
    {
     "name": "stdout",
     "output_type": "stream",
     "text": [
      "python programming\n",
      "['p']['o']['n']['p']['r']['o']['g']['r']['m']['m']['n']['g']"
     ]
    }
   ],
   "source": [
    "s = input(str())\n",
    "a = list(s)\n",
    "for i in s:\n",
    "    if s.count(i)>1:\n",
    "       t = list(i)\n",
    "       print(t, end=\"\")"
   ]
  },
  {
   "cell_type": "code",
   "execution_count": null,
   "id": "ac8618f5",
   "metadata": {},
   "outputs": [],
   "source": []
  }
 ],
 "metadata": {
  "kernelspec": {
   "display_name": "Python 3 (ipykernel)",
   "language": "python",
   "name": "python3"
  },
  "language_info": {
   "codemirror_mode": {
    "name": "ipython",
    "version": 3
   },
   "file_extension": ".py",
   "mimetype": "text/x-python",
   "name": "python",
   "nbconvert_exporter": "python",
   "pygments_lexer": "ipython3",
   "version": "3.10.9"
  }
 },
 "nbformat": 4,
 "nbformat_minor": 5
}
